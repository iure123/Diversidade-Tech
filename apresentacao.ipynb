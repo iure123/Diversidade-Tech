{
 "cells": [
  {
   "cell_type": "markdown",
   "metadata": {},
   "source": [
    "## Identificação das colunas (Features)\n",
    "\n",
    "CustomerId: identificação do cliente.\n",
    "\n",
    "Surname: sobrenome do cliente.\n",
    "\n",
    "CreditScore: pontuação de credito, 0 alto risco de inadimplência e 1000 clientes com baixo risco de inadimplência.\n",
    "\n",
    "Geography: país que o serviço é oferecido.\n",
    "\n",
    "Gender: sexo do cliente.\n",
    "\n",
    "Age: idade do cleinte.\n",
    "\n",
    "Tenure: um indicativo de estabilidade no emprego, em que 0 significa pouca estabilidade e 10 muita estabilidade.\n",
    "\n",
    "Balance: saldo da conta corrente.\n",
    "\n",
    "NumOfProducts: número de produtos bancários adquiridos.\n",
    "\n",
    "HasCrCard: se tem cartão de credito ou não, (Sim = 1 e Não = 0).\n",
    "\n",
    "IsActiveMember: se é um cliente com conta ativa, (Ativo = 1).\n",
    "\n",
    "EstimatedSalary: salário estimado.\n",
    "\n",
    "Exited: cliente deixou de ser cliente do banco ou não (Churn = 1).\n"
   ]
  },
  {
   "cell_type": "code",
   "execution_count": null,
   "metadata": {},
   "outputs": [],
   "source": [
    "#IMPORTANDO BIBLIOTECAS \n",
    "import pandas as pd\n",
    "import seaborn as sns \n"
   ]
  },
  {
   "cell_type": "code",
   "execution_count": null,
   "metadata": {},
   "outputs": [],
   "source": []
  }
 ],
 "metadata": {
  "kernelspec": {
   "display_name": "Python 3.10.5 64-bit",
   "language": "python",
   "name": "python3"
  },
  "language_info": {
   "name": "python",
   "version": "3.10.5"
  },
  "orig_nbformat": 4,
  "vscode": {
   "interpreter": {
    "hash": "82f3d80b6b41ab5b02ba5689aa604ffcbac988ac0d2eb4c6baf858baac649e23"
   }
  }
 },
 "nbformat": 4,
 "nbformat_minor": 2
}
