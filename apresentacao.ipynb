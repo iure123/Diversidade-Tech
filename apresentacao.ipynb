{
 "cells": [
  {
   "cell_type": "code",
   "execution_count": 9,
   "metadata": {},
   "outputs": [],
   "source": [
    "#IMPORTANDO BIBLIOTECAS \n",
    "import pandas as pd\n",
    "import seaborn as sns \n",
    "import numpy as np\n",
    "\n",
    "df_churn = pd.read_csv('churn.csv')\n",
    "\n",
    "arr_quali = ['Geography', 'Gender', 'HasCrCard', 'IsActiveMember', 'Exited']\n",
    "arr_quanti = ['CreditScore', 'Age', 'Tenure', 'Balance', 'NumOfProducts', 'EstimatedSalary', 'Exited']\n",
    "\n",
    "df_churn_quali = df_churn[arr_quali]\n",
    "df_churn_quanti = df_churn[arr_quanti]\n"
   ]
  },
  {
   "cell_type": "markdown",
   "metadata": {},
   "source": [
    "\"Conquistar um novo cliente custa entre 5 e 7 vezes mais do que manter um atual\"\n",
    "-Philip Kotler"
   ]
  },
  {
   "cell_type": "markdown",
   "metadata": {},
   "source": [
    "Em uma amostra de 10.000 clientes, 2037 saíram "
   ]
  },
  {
   "cell_type": "code",
   "execution_count": 10,
   "metadata": {},
   "outputs": [
    {
     "name": "stdout",
     "output_type": "stream",
     "text": [
      "Saíram: 2037\n",
      "Ficaram: 7963\n"
     ]
    }
   ],
   "source": [
    "print(f\"Saíram: {len(df_churn.query('Exited == 1'))}\")\n",
    "print(f\"Ficaram: {len(df_churn.query('Exited == 0'))}\")"
   ]
  },
  {
   "cell_type": "code",
   "execution_count": 22,
   "metadata": {},
   "outputs": [
    {
     "data": {
      "text/html": [
       "<div>\n",
       "<style scoped>\n",
       "    .dataframe tbody tr th:only-of-type {\n",
       "        vertical-align: middle;\n",
       "    }\n",
       "\n",
       "    .dataframe tbody tr th {\n",
       "        vertical-align: top;\n",
       "    }\n",
       "\n",
       "    .dataframe thead tr th {\n",
       "        text-align: left;\n",
       "    }\n",
       "\n",
       "    .dataframe thead tr:last-of-type th {\n",
       "        text-align: right;\n",
       "    }\n",
       "</style>\n",
       "<table border=\"1\" class=\"dataframe\">\n",
       "  <thead>\n",
       "    <tr>\n",
       "      <th></th>\n",
       "      <th>count_nonzero</th>\n",
       "    </tr>\n",
       "    <tr>\n",
       "      <th></th>\n",
       "      <th>Exited</th>\n",
       "    </tr>\n",
       "    <tr>\n",
       "      <th>Geography</th>\n",
       "      <th></th>\n",
       "    </tr>\n",
       "  </thead>\n",
       "  <tbody>\n",
       "    <tr>\n",
       "      <th>France</th>\n",
       "      <td>810</td>\n",
       "    </tr>\n",
       "    <tr>\n",
       "      <th>Germany</th>\n",
       "      <td>814</td>\n",
       "    </tr>\n",
       "    <tr>\n",
       "      <th>Spain</th>\n",
       "      <td>413</td>\n",
       "    </tr>\n",
       "  </tbody>\n",
       "</table>\n",
       "</div>"
      ],
      "text/plain": [
       "          count_nonzero\n",
       "                 Exited\n",
       "Geography              \n",
       "France              810\n",
       "Germany             814\n",
       "Spain               413"
      ]
     },
     "execution_count": 22,
     "metadata": {},
     "output_type": "execute_result"
    }
   ],
   "source": [
    "from matplotlib import pyplot as plt\n",
    "\n",
    "\n",
    "paises_Churn = pd.pivot_table(df_churn,index=[\"Geography\"],\n",
    "               values=[\"Exited\"],\n",
    "               aggfunc=[np.count_nonzero],fill_value=0)\n",
    "               \n",
    "paises_Churn"
   ]
  },
  {
   "cell_type": "code",
   "execution_count": 23,
   "metadata": {},
   "outputs": [
    {
     "data": {
      "text/html": [
       "<div>\n",
       "<style scoped>\n",
       "    .dataframe tbody tr th:only-of-type {\n",
       "        vertical-align: middle;\n",
       "    }\n",
       "\n",
       "    .dataframe tbody tr th {\n",
       "        vertical-align: top;\n",
       "    }\n",
       "\n",
       "    .dataframe thead th {\n",
       "        text-align: right;\n",
       "    }\n",
       "</style>\n",
       "<table border=\"1\" class=\"dataframe\">\n",
       "  <thead>\n",
       "    <tr style=\"text-align: right;\">\n",
       "      <th></th>\n",
       "      <th>CreditScore</th>\n",
       "      <th>Age</th>\n",
       "      <th>Tenure</th>\n",
       "      <th>Balance</th>\n",
       "      <th>NumOfProducts</th>\n",
       "      <th>EstimatedSalary</th>\n",
       "      <th>Exited</th>\n",
       "    </tr>\n",
       "  </thead>\n",
       "  <tbody>\n",
       "    <tr>\n",
       "      <th>count</th>\n",
       "      <td>2037.00</td>\n",
       "      <td>2037.00</td>\n",
       "      <td>2037.00</td>\n",
       "      <td>2037.00</td>\n",
       "      <td>2037.00</td>\n",
       "      <td>2037.00</td>\n",
       "      <td>2037.0</td>\n",
       "    </tr>\n",
       "    <tr>\n",
       "      <th>mean</th>\n",
       "      <td>645.35</td>\n",
       "      <td>44.84</td>\n",
       "      <td>4.93</td>\n",
       "      <td>91108.54</td>\n",
       "      <td>1.48</td>\n",
       "      <td>101465.68</td>\n",
       "      <td>1.0</td>\n",
       "    </tr>\n",
       "    <tr>\n",
       "      <th>std</th>\n",
       "      <td>100.32</td>\n",
       "      <td>9.76</td>\n",
       "      <td>2.94</td>\n",
       "      <td>58360.79</td>\n",
       "      <td>0.80</td>\n",
       "      <td>57912.42</td>\n",
       "      <td>0.0</td>\n",
       "    </tr>\n",
       "    <tr>\n",
       "      <th>min</th>\n",
       "      <td>350.00</td>\n",
       "      <td>18.00</td>\n",
       "      <td>0.00</td>\n",
       "      <td>0.00</td>\n",
       "      <td>1.00</td>\n",
       "      <td>11.58</td>\n",
       "      <td>1.0</td>\n",
       "    </tr>\n",
       "    <tr>\n",
       "      <th>25%</th>\n",
       "      <td>578.00</td>\n",
       "      <td>38.00</td>\n",
       "      <td>2.00</td>\n",
       "      <td>38340.02</td>\n",
       "      <td>1.00</td>\n",
       "      <td>51907.72</td>\n",
       "      <td>1.0</td>\n",
       "    </tr>\n",
       "    <tr>\n",
       "      <th>50%</th>\n",
       "      <td>646.00</td>\n",
       "      <td>45.00</td>\n",
       "      <td>5.00</td>\n",
       "      <td>109349.29</td>\n",
       "      <td>1.00</td>\n",
       "      <td>102460.84</td>\n",
       "      <td>1.0</td>\n",
       "    </tr>\n",
       "    <tr>\n",
       "      <th>75%</th>\n",
       "      <td>716.00</td>\n",
       "      <td>51.00</td>\n",
       "      <td>8.00</td>\n",
       "      <td>131433.33</td>\n",
       "      <td>2.00</td>\n",
       "      <td>152422.91</td>\n",
       "      <td>1.0</td>\n",
       "    </tr>\n",
       "    <tr>\n",
       "      <th>max</th>\n",
       "      <td>850.00</td>\n",
       "      <td>84.00</td>\n",
       "      <td>10.00</td>\n",
       "      <td>250898.09</td>\n",
       "      <td>4.00</td>\n",
       "      <td>199808.10</td>\n",
       "      <td>1.0</td>\n",
       "    </tr>\n",
       "  </tbody>\n",
       "</table>\n",
       "</div>"
      ],
      "text/plain": [
       "       CreditScore      Age   Tenure    Balance  NumOfProducts  \\\n",
       "count      2037.00  2037.00  2037.00    2037.00        2037.00   \n",
       "mean        645.35    44.84     4.93   91108.54           1.48   \n",
       "std         100.32     9.76     2.94   58360.79           0.80   \n",
       "min         350.00    18.00     0.00       0.00           1.00   \n",
       "25%         578.00    38.00     2.00   38340.02           1.00   \n",
       "50%         646.00    45.00     5.00  109349.29           1.00   \n",
       "75%         716.00    51.00     8.00  131433.33           2.00   \n",
       "max         850.00    84.00    10.00  250898.09           4.00   \n",
       "\n",
       "       EstimatedSalary  Exited  \n",
       "count          2037.00  2037.0  \n",
       "mean         101465.68     1.0  \n",
       "std           57912.42     0.0  \n",
       "min              11.58     1.0  \n",
       "25%           51907.72     1.0  \n",
       "50%          102460.84     1.0  \n",
       "75%          152422.91     1.0  \n",
       "max          199808.10     1.0  "
      ]
     },
     "execution_count": 23,
     "metadata": {},
     "output_type": "execute_result"
    }
   ],
   "source": [
    "df_churn_quanti[df_churn_quanti['Exited'] == 1].describe().round(2)"
   ]
  }
 ],
 "metadata": {
  "kernelspec": {
   "display_name": "Python 3.10.5 64-bit",
   "language": "python",
   "name": "python3"
  },
  "language_info": {
   "codemirror_mode": {
    "name": "ipython",
    "version": 3
   },
   "file_extension": ".py",
   "mimetype": "text/x-python",
   "name": "python",
   "nbconvert_exporter": "python",
   "pygments_lexer": "ipython3",
   "version": "3.10.5"
  },
  "orig_nbformat": 4,
  "vscode": {
   "interpreter": {
    "hash": "82f3d80b6b41ab5b02ba5689aa604ffcbac988ac0d2eb4c6baf858baac649e23"
   }
  }
 },
 "nbformat": 4,
 "nbformat_minor": 2
}
