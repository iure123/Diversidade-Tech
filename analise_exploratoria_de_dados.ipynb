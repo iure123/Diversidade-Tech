{
  "cells": [
    {
      "cell_type": "markdown",
      "metadata": {
        "colab_type": "text",
        "id": "view-in-github"
      },
      "source": [
        "<a href=\"https://colab.research.google.com/github/iure123/Diversidade-Tech/blob/main/analise_exploratoria_de_dados.ipynb\" target=\"_parent\"><img src=\"https://colab.research.google.com/assets/colab-badge.svg\" alt=\"Open In Colab\"/></a>"
      ]
    },
    {
      "cell_type": "code",
      "execution_count": null,
      "metadata": {
        "id": "q6HIi3fivH9C"
      },
      "outputs": [],
      "source": [
        "print('Hello World')\n",
        "print('comitando pelo colab')\n",
        "print('commitando pelo VScode')"
      ]
    }
  ],
  "metadata": {
    "colab": {
      "authorship_tag": "ABX9TyMUPzlWJ6hrNNXj/peOrm9n",
      "include_colab_link": true,
      "provenance": []
    },
    "kernelspec": {
      "display_name": "Python 3.10.5 64-bit",
      "language": "python",
      "name": "python3"
    },
    "language_info": {
      "name": "python",
      "version": "3.10.5"
    },
    "vscode": {
      "interpreter": {
        "hash": "82f3d80b6b41ab5b02ba5689aa604ffcbac988ac0d2eb4c6baf858baac649e23"
      }
    }
  },
  "nbformat": 4,
  "nbformat_minor": 0
}
